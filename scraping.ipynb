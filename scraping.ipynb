{
 "metadata": {
  "language_info": {
   "codemirror_mode": {
    "name": "ipython",
    "version": 3
   },
   "file_extension": ".py",
   "mimetype": "text/x-python",
   "name": "python",
   "nbconvert_exporter": "python",
   "pygments_lexer": "ipython3",
   "version": "3.7.7-final"
  },
  "orig_nbformat": 2,
  "kernelspec": {
   "name": "python3",
   "display_name": "Python 3",
   "language": "python"
  }
 },
 "nbformat": 4,
 "nbformat_minor": 2,
 "cells": [
  {
   "cell_type": "code",
   "execution_count": null,
   "metadata": {},
   "outputs": [],
   "source": [
    "## Name: Nikhil Kumar\n",
    "## Task: AEA Webscraping"
   ]
  },
  {
   "source": [
    "### Using the Python Requests package, this notebook makes a call to the American Economic Review page. Using Python BeautifulSoup or re, and Pandas, it extracts the volume number, issue, and hyperlink of all issues available and creates an excel spreadsheet with that information.\n",
    "\n",
    "### Then, it constructs a different spreadsheet with the following columns: Volume, Issue, Article Title, Authors, Page Numbers, Article Link, JEL Classification Code, JEL Classification Description for each article in each issue"
   ],
   "cell_type": "markdown",
   "metadata": {}
  },
  {
   "source": [
    "### Import Packages"
   ],
   "cell_type": "markdown",
   "metadata": {}
  },
  {
   "cell_type": "code",
   "execution_count": 112,
   "metadata": {},
   "outputs": [],
   "source": [
    "import pandas as pd\n",
    "import numpy as np\n",
    "from urllib.request import urlopen\n",
    "from bs4 import BeautifulSoup\n",
    "from selenium import webdriver\n",
    "from selenium.webdriver.common.by import By\n",
    "from selenium.common.exceptions import NoSuchElementException\n",
    "import requests"
   ]
  },
  {
   "source": [
    "### Access the AEA issue webpage"
   ],
   "cell_type": "markdown",
   "metadata": {}
  },
  {
   "cell_type": "code",
   "execution_count": 113,
   "metadata": {},
   "outputs": [],
   "source": [
    "url = \"https://www.aeaweb.org/journals/aer/issues\"\n",
    "html = urlopen(url)\n",
    "soup = BeautifulSoup(html, 'lxml')"
   ]
  },
  {
   "source": [
    "### Scrape the data for all issues on the webpage"
   ],
   "cell_type": "markdown",
   "metadata": {}
  },
  {
   "cell_type": "code",
   "execution_count": 119,
   "metadata": {},
   "outputs": [
    {
     "output_type": "execute_result",
     "data": {
      "text/plain": [
       "          Volume                               Link  \\\n",
       "0    Volume  110  https://www.aeaweb.org/issues/614   \n",
       "1    Volume  110  https://www.aeaweb.org/issues/611   \n",
       "2    Volume  110  https://www.aeaweb.org/issues/607   \n",
       "3    Volume  110  https://www.aeaweb.org/issues/604   \n",
       "4    Volume  110  https://www.aeaweb.org/issues/600   \n",
       "..           ...                                ...   \n",
       "159   Volume  89  https://www.aeaweb.org/issues/156   \n",
       "160   Volume  89  https://www.aeaweb.org/issues/157   \n",
       "161   Volume  89  https://www.aeaweb.org/issues/158   \n",
       "162   Volume  89  https://www.aeaweb.org/issues/159   \n",
       "163   Volume  89  https://www.aeaweb.org/issues/160   \n",
       "\n",
       "                                Issue  \n",
       "0    December 2020 (Vol. 110, No.12 )  \n",
       "1    November 2020 (Vol. 110, No.11 )  \n",
       "2     October 2020 (Vol. 110, No.10 )  \n",
       "3    September 2020 (Vol. 110, No.9 )  \n",
       "4       August 2020 (Vol. 110, No.8 )  \n",
       "..                                ...  \n",
       "159    December 1999 (Vol. 89, No.5 )  \n",
       "160   September 1999 (Vol. 89, No.4 )  \n",
       "161        June 1999 (Vol. 89, No.3 )  \n",
       "162         May 1999 (Vol. 89, No.2 )  \n",
       "163       March 1999 (Vol. 89, No.1 )  \n",
       "\n",
       "[164 rows x 3 columns]"
      ],
      "text/html": "<div>\n<style scoped>\n    .dataframe tbody tr th:only-of-type {\n        vertical-align: middle;\n    }\n\n    .dataframe tbody tr th {\n        vertical-align: top;\n    }\n\n    .dataframe thead th {\n        text-align: right;\n    }\n</style>\n<table border=\"1\" class=\"dataframe\">\n  <thead>\n    <tr style=\"text-align: right;\">\n      <th></th>\n      <th>Volume</th>\n      <th>Link</th>\n      <th>Issue</th>\n    </tr>\n  </thead>\n  <tbody>\n    <tr>\n      <th>0</th>\n      <td>Volume  110</td>\n      <td>https://www.aeaweb.org/issues/614</td>\n      <td>December 2020 (Vol. 110, No.12 )</td>\n    </tr>\n    <tr>\n      <th>1</th>\n      <td>Volume  110</td>\n      <td>https://www.aeaweb.org/issues/611</td>\n      <td>November 2020 (Vol. 110, No.11 )</td>\n    </tr>\n    <tr>\n      <th>2</th>\n      <td>Volume  110</td>\n      <td>https://www.aeaweb.org/issues/607</td>\n      <td>October 2020 (Vol. 110, No.10 )</td>\n    </tr>\n    <tr>\n      <th>3</th>\n      <td>Volume  110</td>\n      <td>https://www.aeaweb.org/issues/604</td>\n      <td>September 2020 (Vol. 110, No.9 )</td>\n    </tr>\n    <tr>\n      <th>4</th>\n      <td>Volume  110</td>\n      <td>https://www.aeaweb.org/issues/600</td>\n      <td>August 2020 (Vol. 110, No.8 )</td>\n    </tr>\n    <tr>\n      <th>...</th>\n      <td>...</td>\n      <td>...</td>\n      <td>...</td>\n    </tr>\n    <tr>\n      <th>159</th>\n      <td>Volume  89</td>\n      <td>https://www.aeaweb.org/issues/156</td>\n      <td>December 1999 (Vol. 89, No.5 )</td>\n    </tr>\n    <tr>\n      <th>160</th>\n      <td>Volume  89</td>\n      <td>https://www.aeaweb.org/issues/157</td>\n      <td>September 1999 (Vol. 89, No.4 )</td>\n    </tr>\n    <tr>\n      <th>161</th>\n      <td>Volume  89</td>\n      <td>https://www.aeaweb.org/issues/158</td>\n      <td>June 1999 (Vol. 89, No.3 )</td>\n    </tr>\n    <tr>\n      <th>162</th>\n      <td>Volume  89</td>\n      <td>https://www.aeaweb.org/issues/159</td>\n      <td>May 1999 (Vol. 89, No.2 )</td>\n    </tr>\n    <tr>\n      <th>163</th>\n      <td>Volume  89</td>\n      <td>https://www.aeaweb.org/issues/160</td>\n      <td>March 1999 (Vol. 89, No.1 )</td>\n    </tr>\n  </tbody>\n</table>\n<p>164 rows × 3 columns</p>\n</div>"
     },
     "metadata": {},
     "execution_count": 119
    }
   ],
   "source": [
    "# number of rows\n",
    "count = 0\n",
    "\n",
    "# dictionary to save data\n",
    "dict = {}\n",
    "\n",
    "for link in soup.findAll('a'):\n",
    "    # for every link on the issues webpage\n",
    "    if ('Vol.' in link.get_text()):\n",
    "        # if link-text has 'Vol.' in it\n",
    "\n",
    "        # save url of the issue\n",
    "        issue_url = link.get('href')\n",
    "        \n",
    "        # save text of the link\n",
    "        url_text = link.get_text()\n",
    "\n",
    "        # start index for volume number\n",
    "        start = url_text.find('Vol.')+4\n",
    "\n",
    "        # end index for volume number\n",
    "        end = url_text.find(',')\n",
    "\n",
    "        # get volume number\n",
    "        vol = (url_text[start: end])\n",
    "\n",
    "        # save data in dictionary\n",
    "        dict[count] = {'Volume': 'Volume '+str(vol), 'Link': \"https://www.aeaweb.org\"+issue_url, 'Issue': url_text}\n",
    "\n",
    "        # update the counter\n",
    "        count += 1\n",
    "# save data in dataframe\n",
    "excel = pd.DataFrame.from_dict(dict).T\n",
    "excel"
   ]
  },
  {
   "source": [
    "### Scrape data for all the articles "
   ],
   "cell_type": "markdown",
   "metadata": {}
  },
  {
   "cell_type": "code",
   "execution_count": 163,
   "metadata": {},
   "outputs": [
    {
     "output_type": "execute_result",
     "data": {
      "text/plain": [
       "            volume                             issue  \\\n",
       "1      Volume  110  December 2020 (Vol. 110, No.12 )   \n",
       "2      Volume  110  December 2020 (Vol. 110, No.12 )   \n",
       "3      Volume  110  December 2020 (Vol. 110, No.12 )   \n",
       "4      Volume  110  December 2020 (Vol. 110, No.12 )   \n",
       "5      Volume  110  December 2020 (Vol. 110, No.12 )   \n",
       "...            ...                               ...   \n",
       "15076   Volume  89       March 1999 (Vol. 89, No.1 )   \n",
       "15077   Volume  89       March 1999 (Vol. 89, No.1 )   \n",
       "15078   Volume  89       March 1999 (Vol. 89, No.1 )   \n",
       "15079   Volume  89       March 1999 (Vol. 89, No.1 )   \n",
       "15080   Volume  89       March 1999 (Vol. 89, No.1 )   \n",
       "\n",
       "                                           article_title  \\\n",
       "1      Competition and Entry in Agricultural Markets:...   \n",
       "2      Competition and Entry in Agricultural Markets:...   \n",
       "3      Competition and Entry in Agricultural Markets:...   \n",
       "4      Competition and Entry in Agricultural Markets:...   \n",
       "5      Competition and Entry in Agricultural Markets:...   \n",
       "...                                                  ...   \n",
       "15076  Social Distance and Other-Regarding Behavior i...   \n",
       "15077  Social Distance and Other-Regarding Behavior i...   \n",
       "15078  Optimal Inflation Targets, \"Conservative\" Cent...   \n",
       "15079  Optimal Inflation Targets, \"Conservative\" Cent...   \n",
       "15080  Optimal Inflation Targets, \"Conservative\" Cent...   \n",
       "\n",
       "                                            authors page_numbers  \\\n",
       "1         Lauren Falcao BergquistMichael Dinerstein  pp. 3705-47   \n",
       "2         Lauren Falcao BergquistMichael Dinerstein  pp. 3705-47   \n",
       "3         Lauren Falcao BergquistMichael Dinerstein  pp. 3705-47   \n",
       "4         Lauren Falcao BergquistMichael Dinerstein  pp. 3705-47   \n",
       "5         Lauren Falcao BergquistMichael Dinerstein  pp. 3705-47   \n",
       "...                                             ...          ...   \n",
       "15076                      Iris BohnetBruno S. Frey  pp. 335-339   \n",
       "15077  Elizabeth HoffmanKevin McCabeVernon L. Smith  pp. 340-341   \n",
       "15078            Roel M. W. J. BeetsmaHenrik Jensen  pp. 342-347   \n",
       "15079            Roel M. W. J. BeetsmaHenrik Jensen  pp. 342-347   \n",
       "15080            Roel M. W. J. BeetsmaHenrik Jensen  pp. 342-347   \n",
       "\n",
       "                                            article_link jel_code  \\\n",
       "1      https://www.aeaweb.org/articles?id=10.1257/aer...      L13   \n",
       "2      https://www.aeaweb.org/articles?id=10.1257/aer...      O13   \n",
       "3      https://www.aeaweb.org/articles?id=10.1257/aer...      Q11   \n",
       "4      https://www.aeaweb.org/articles?id=10.1257/aer...      Q12   \n",
       "5      https://www.aeaweb.org/articles?id=10.1257/aer...      Q13   \n",
       "...                                                  ...      ...   \n",
       "15076  https://www.aeaweb.org/articles?id=10.1257/aer...      C72   \n",
       "15077  https://www.aeaweb.org/articles?id=10.1257/aer...      C72   \n",
       "15078  https://www.aeaweb.org/articles?id=10.1257/aer...      E52   \n",
       "15079  https://www.aeaweb.org/articles?id=10.1257/aer...      E31   \n",
       "15080  https://www.aeaweb.org/articles?id=10.1257/aer...      E58   \n",
       "\n",
       "                                         jel_description  \n",
       "1                  Oligopoly and Other Imperfect Markets  \n",
       "2      Economic Development: Agriculture; Natural Res...  \n",
       "3      Agriculture: Aggregate Supply and Demand Analy...  \n",
       "4      Micro Analysis of Farm Firms, Farm Households,...  \n",
       "5      Agricultural Markets and Marketing; Cooperativ...  \n",
       "...                                                  ...  \n",
       "15076                               Noncooperative Games  \n",
       "15077                               Noncooperative Games  \n",
       "15078                                    Monetary Policy  \n",
       "15079                  Price Level; Inflation; Deflation  \n",
       "15080                   Central Banks and Their Policies  \n",
       "\n",
       "[15080 rows x 8 columns]"
      ],
      "text/html": "<div>\n<style scoped>\n    .dataframe tbody tr th:only-of-type {\n        vertical-align: middle;\n    }\n\n    .dataframe tbody tr th {\n        vertical-align: top;\n    }\n\n    .dataframe thead th {\n        text-align: right;\n    }\n</style>\n<table border=\"1\" class=\"dataframe\">\n  <thead>\n    <tr style=\"text-align: right;\">\n      <th></th>\n      <th>volume</th>\n      <th>issue</th>\n      <th>article_title</th>\n      <th>authors</th>\n      <th>page_numbers</th>\n      <th>article_link</th>\n      <th>jel_code</th>\n      <th>jel_description</th>\n    </tr>\n  </thead>\n  <tbody>\n    <tr>\n      <th>1</th>\n      <td>Volume  110</td>\n      <td>December 2020 (Vol. 110, No.12 )</td>\n      <td>Competition and Entry in Agricultural Markets:...</td>\n      <td>Lauren Falcao BergquistMichael Dinerstein</td>\n      <td>pp. 3705-47</td>\n      <td>https://www.aeaweb.org/articles?id=10.1257/aer...</td>\n      <td>L13</td>\n      <td>Oligopoly and Other Imperfect Markets</td>\n    </tr>\n    <tr>\n      <th>2</th>\n      <td>Volume  110</td>\n      <td>December 2020 (Vol. 110, No.12 )</td>\n      <td>Competition and Entry in Agricultural Markets:...</td>\n      <td>Lauren Falcao BergquistMichael Dinerstein</td>\n      <td>pp. 3705-47</td>\n      <td>https://www.aeaweb.org/articles?id=10.1257/aer...</td>\n      <td>O13</td>\n      <td>Economic Development: Agriculture; Natural Res...</td>\n    </tr>\n    <tr>\n      <th>3</th>\n      <td>Volume  110</td>\n      <td>December 2020 (Vol. 110, No.12 )</td>\n      <td>Competition and Entry in Agricultural Markets:...</td>\n      <td>Lauren Falcao BergquistMichael Dinerstein</td>\n      <td>pp. 3705-47</td>\n      <td>https://www.aeaweb.org/articles?id=10.1257/aer...</td>\n      <td>Q11</td>\n      <td>Agriculture: Aggregate Supply and Demand Analy...</td>\n    </tr>\n    <tr>\n      <th>4</th>\n      <td>Volume  110</td>\n      <td>December 2020 (Vol. 110, No.12 )</td>\n      <td>Competition and Entry in Agricultural Markets:...</td>\n      <td>Lauren Falcao BergquistMichael Dinerstein</td>\n      <td>pp. 3705-47</td>\n      <td>https://www.aeaweb.org/articles?id=10.1257/aer...</td>\n      <td>Q12</td>\n      <td>Micro Analysis of Farm Firms, Farm Households,...</td>\n    </tr>\n    <tr>\n      <th>5</th>\n      <td>Volume  110</td>\n      <td>December 2020 (Vol. 110, No.12 )</td>\n      <td>Competition and Entry in Agricultural Markets:...</td>\n      <td>Lauren Falcao BergquistMichael Dinerstein</td>\n      <td>pp. 3705-47</td>\n      <td>https://www.aeaweb.org/articles?id=10.1257/aer...</td>\n      <td>Q13</td>\n      <td>Agricultural Markets and Marketing; Cooperativ...</td>\n    </tr>\n    <tr>\n      <th>...</th>\n      <td>...</td>\n      <td>...</td>\n      <td>...</td>\n      <td>...</td>\n      <td>...</td>\n      <td>...</td>\n      <td>...</td>\n      <td>...</td>\n    </tr>\n    <tr>\n      <th>15076</th>\n      <td>Volume  89</td>\n      <td>March 1999 (Vol. 89, No.1 )</td>\n      <td>Social Distance and Other-Regarding Behavior i...</td>\n      <td>Iris BohnetBruno S. Frey</td>\n      <td>pp. 335-339</td>\n      <td>https://www.aeaweb.org/articles?id=10.1257/aer...</td>\n      <td>C72</td>\n      <td>Noncooperative Games</td>\n    </tr>\n    <tr>\n      <th>15077</th>\n      <td>Volume  89</td>\n      <td>March 1999 (Vol. 89, No.1 )</td>\n      <td>Social Distance and Other-Regarding Behavior i...</td>\n      <td>Elizabeth HoffmanKevin McCabeVernon L. Smith</td>\n      <td>pp. 340-341</td>\n      <td>https://www.aeaweb.org/articles?id=10.1257/aer...</td>\n      <td>C72</td>\n      <td>Noncooperative Games</td>\n    </tr>\n    <tr>\n      <th>15078</th>\n      <td>Volume  89</td>\n      <td>March 1999 (Vol. 89, No.1 )</td>\n      <td>Optimal Inflation Targets, \"Conservative\" Cent...</td>\n      <td>Roel M. W. J. BeetsmaHenrik Jensen</td>\n      <td>pp. 342-347</td>\n      <td>https://www.aeaweb.org/articles?id=10.1257/aer...</td>\n      <td>E52</td>\n      <td>Monetary Policy</td>\n    </tr>\n    <tr>\n      <th>15079</th>\n      <td>Volume  89</td>\n      <td>March 1999 (Vol. 89, No.1 )</td>\n      <td>Optimal Inflation Targets, \"Conservative\" Cent...</td>\n      <td>Roel M. W. J. BeetsmaHenrik Jensen</td>\n      <td>pp. 342-347</td>\n      <td>https://www.aeaweb.org/articles?id=10.1257/aer...</td>\n      <td>E31</td>\n      <td>Price Level; Inflation; Deflation</td>\n    </tr>\n    <tr>\n      <th>15080</th>\n      <td>Volume  89</td>\n      <td>March 1999 (Vol. 89, No.1 )</td>\n      <td>Optimal Inflation Targets, \"Conservative\" Cent...</td>\n      <td>Roel M. W. J. BeetsmaHenrik Jensen</td>\n      <td>pp. 342-347</td>\n      <td>https://www.aeaweb.org/articles?id=10.1257/aer...</td>\n      <td>E58</td>\n      <td>Central Banks and Their Policies</td>\n    </tr>\n  </tbody>\n</table>\n<p>15080 rows × 8 columns</p>\n</div>"
     },
     "metadata": {},
     "execution_count": 163
    }
   ],
   "source": [
    "# dictionary to save data\n",
    "dic = {}\n",
    "\n",
    "# count number of rows\n",
    "count = 1\n",
    "for link in excel['Link']:\n",
    "    # for every issue on AEA webpage\n",
    "\n",
    "    # get volume number from previous dataframe\n",
    "    volume = excel[excel['Link']==link].set_index('Link').loc[link,\"Volume\"]\n",
    "\n",
    "    # get issue number from previous dataframe\n",
    "    issue = excel[excel['Link']==link].set_index('Link').loc[link,\"Issue\"]\n",
    "    \n",
    "    # open the webpage containing articles in that issue\n",
    "    html = urlopen(link)\n",
    "    soup = BeautifulSoup(html, 'lxml')\n",
    "\n",
    "    # for link on this webpage\n",
    "    for art in soup.findAll('a'):\n",
    "\n",
    "        # if the link is an article\n",
    "        if '/articles' in art.get('href') and 'Front Matter' not in art.get_text():\n",
    "\n",
    "            # save url of article\n",
    "            article_url = \"https://www.aeaweb.org\" + art.get('href')\n",
    "            \n",
    "            # open article url\n",
    "            html = urlopen(article_url)\n",
    "            soup = BeautifulSoup(html, 'lxml')\n",
    "\n",
    "            # save title of the article\n",
    "            title = soup.findAll('h1', class_= \"title\")[0].get_text()\n",
    "            authors = \"\"\n",
    "\n",
    "            # save the names of all authors\n",
    "            for item in soup.findAll('li', class_= \"author\"):\n",
    "                authors = authors + item.get_text().strip() +\", \"\n",
    "                authors = authors[:len(authors)-2]\n",
    "            \n",
    "            # save the page numbers of the article\n",
    "            pages = soup.findAll('li', class_= \"pages\")[0].get_text()\n",
    "            pages = pages[1:len(pages)-1]\n",
    "\n",
    "            try:\n",
    "                # save JEL classification code and description\n",
    "                jel = soup.findAll('ul', class_= \"jel-codes\")[0]\n",
    "                for li in jel.findAll('li'):\n",
    "                    x = li.get_text()\n",
    "                    jel_code = x[:4].strip()\n",
    "                    jel_desc = x[12:].strip()\n",
    "\n",
    "                    # save all the above information into a dictionary\n",
    "                    dic[count] = {'volume': volume, 'issue': issue, 'article_title': title, 'authors': authors, 'page_numbers': pages, 'article_link': article_url , 'jel_code': jel_code, 'jel_description': jel_desc  }\n",
    "                    count += 1\n",
    "            except:\n",
    "                print(\"hi\")\n",
    "# save the data into a dataframe\n",
    "excel2 = pd.DataFrame.from_dict(dic).T\n",
    "excel2"
   ]
  }
 ]
}